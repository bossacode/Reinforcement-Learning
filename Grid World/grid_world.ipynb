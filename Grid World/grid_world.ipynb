{
 "cells": [
  {
   "cell_type": "code",
   "execution_count": 39,
   "metadata": {},
   "outputs": [],
   "source": [
    "%load_ext autoreload\n",
    "%autoreload 2"
   ]
  },
  {
   "cell_type": "code",
   "execution_count": 64,
   "metadata": {},
   "outputs": [],
   "source": [
    "import numpy as np\n",
    "from grid_world import RandomAgent, Environment"
   ]
  },
  {
   "cell_type": "code",
   "execution_count": 65,
   "metadata": {},
   "outputs": [
    {
     "name": "stdout",
     "output_type": "stream",
     "text": [
      "[['0' '0' '0' 'WIN']\n",
      " ['0' 'BLOCK' '0' 'LOSE']\n",
      " ['*' '0' '0' '0']]\n",
      "--------------------------------------------------\n",
      "[['0' '0' '0' 'WIN']\n",
      " ['0' 'BLOCK' '0' 'LOSE']\n",
      " ['0' '*' '0' '0']]\n",
      "--------------------------------------------------\n",
      "[['0' '0' '0' 'WIN']\n",
      " ['0' 'BLOCK' '0' 'LOSE']\n",
      " ['*' '0' '0' '0']]\n",
      "--------------------------------------------------\n",
      "[['0' '0' '0' 'WIN']\n",
      " ['0' 'BLOCK' '0' 'LOSE']\n",
      " ['*' '0' '0' '0']]\n",
      "--------------------------------------------------\n",
      "[['0' '0' '0' 'WIN']\n",
      " ['0' 'BLOCK' '0' 'LOSE']\n",
      " ['0' '*' '0' '0']]\n",
      "--------------------------------------------------\n",
      "[['0' '0' '0' 'WIN']\n",
      " ['0' 'BLOCK' '0' 'LOSE']\n",
      " ['0' '*' '0' '0']]\n",
      "--------------------------------------------------\n",
      "[['0' '0' '0' 'WIN']\n",
      " ['0' 'BLOCK' '0' 'LOSE']\n",
      " ['0' '0' '*' '0']]\n",
      "--------------------------------------------------\n",
      "[['0' '0' '0' 'WIN']\n",
      " ['0' 'BLOCK' '*' 'LOSE']\n",
      " ['0' '0' '0' '0']]\n",
      "--------------------------------------------------\n",
      "[['0' '0' '0' 'WIN']\n",
      " ['0' 'BLOCK' '0' '*']\n",
      " ['0' '0' '0' '0']]\n",
      "--------------------------------------------------\n"
     ]
    },
    {
     "data": {
      "text/plain": [
       "[-1]"
      ]
     },
     "execution_count": 65,
     "metadata": {},
     "output_type": "execute_result"
    }
   ],
   "source": [
    "ra = RandomAgent()\n",
    "ra.run(n_iter=1, show_board=True)"
   ]
  },
  {
   "cell_type": "code",
   "execution_count": 66,
   "metadata": {},
   "outputs": [
    {
     "name": "stdout",
     "output_type": "stream",
     "text": [
      "success rate: 0.4302\n"
     ]
    }
   ],
   "source": [
    "hist = np.array(ra.run(n_iter=10000, show_board=False))\n",
    "print('success rate:', np.mean(hist == 1))"
   ]
  }
 ],
 "metadata": {
  "kernelspec": {
   "display_name": "base",
   "language": "python",
   "name": "python3"
  },
  "language_info": {
   "codemirror_mode": {
    "name": "ipython",
    "version": 3
   },
   "file_extension": ".py",
   "mimetype": "text/x-python",
   "name": "python",
   "nbconvert_exporter": "python",
   "pygments_lexer": "ipython3",
   "version": "3.10.9"
  },
  "orig_nbformat": 4
 },
 "nbformat": 4,
 "nbformat_minor": 2
}
